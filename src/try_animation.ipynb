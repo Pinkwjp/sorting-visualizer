{
 "cells": [
  {
   "cell_type": "code",
   "execution_count": null,
   "metadata": {},
   "outputs": [],
   "source": [
    "%matplotlib widget\n",
    "\n",
    "import functools\n",
    "\n",
    "import matplotlib.pyplot as plt\n",
    "import numpy as np\n",
    "\n",
    "import matplotlib.animation as animation\n",
    "\n",
    "# Setting up a random number generator with a fixed state for reproducibility.\n",
    "rng = np.random.default_rng(seed=19680801)\n",
    "# Fixing bin edges.\n",
    "HIST_BINS = np.linspace(-4, 4, 100)\n",
    "\n",
    "# Histogram our data with numpy.\n",
    "data = rng.standard_normal(1000)\n",
    "n, _ = np.histogram(data, HIST_BINS)\n",
    "\n",
    "def animate(frame_number, bar_container):\n",
    "    # Simulate new data coming in.\n",
    "    data = rng.standard_normal(1000)\n",
    "    n, _ = np.histogram(data, HIST_BINS)\n",
    "    for count, rect in zip(n, bar_container.patches):\n",
    "        rect.set_height(count)\n",
    "\n",
    "    return bar_container.patches\n",
    "\n",
    "\n",
    "# Output generated via `matplotlib.animation.Animation.to_jshtml`.\n",
    "\n",
    "fig, ax = plt.subplots()\n",
    "_, _, bar_container = ax.hist(data, HIST_BINS, lw=1,\n",
    "                              ec=\"yellow\", fc=\"green\", alpha=0.5)\n",
    "ax.set_ylim(top=55)  # set safe limit to ensure that all data is visible.\n",
    "\n",
    "anim = functools.partial(animate, bar_container=bar_container)\n",
    "ani = animation.FuncAnimation(fig, anim, 50, repeat=True, blit=True)\n",
    "plt.show()"
   ]
  }
 ],
 "metadata": {
  "kernelspec": {
   "display_name": "sorting-visualizer-9ph48ThU",
   "language": "python",
   "name": "python3"
  },
  "language_info": {
   "codemirror_mode": {
    "name": "ipython",
    "version": 3
   },
   "file_extension": ".py",
   "mimetype": "text/x-python",
   "name": "python",
   "nbconvert_exporter": "python",
   "pygments_lexer": "ipython3",
   "version": "3.12.5"
  }
 },
 "nbformat": 4,
 "nbformat_minor": 2
}
